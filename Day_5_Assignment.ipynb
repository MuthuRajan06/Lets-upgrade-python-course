{
  "nbformat": 4,
  "nbformat_minor": 0,
  "metadata": {
    "colab": {
      "name": "Day 5 Assignment",
      "provenance": [],
      "collapsed_sections": [],
      "authorship_tag": "ABX9TyMzcbEuhw+BxHhpan/nQ0rW",
      "include_colab_link": true
    },
    "kernelspec": {
      "name": "python3",
      "display_name": "Python 3"
    }
  },
  "cells": [
    {
      "cell_type": "markdown",
      "metadata": {
        "id": "view-in-github",
        "colab_type": "text"
      },
      "source": [
        "<a href=\"https://colab.research.google.com/github/MuthuRajan06/Lets-upgrade-python-course/blob/master/Day_5_Assignment.ipynb\" target=\"_parent\"><img src=\"https://colab.research.google.com/assets/colab-badge.svg\" alt=\"Open In Colab\"/></a>"
      ]
    },
    {
      "cell_type": "code",
      "metadata": {
        "id": "5CUdpcVDgdBV",
        "colab_type": "code",
        "colab": {
          "base_uri": "https://localhost:8080/",
          "height": 54
        },
        "outputId": "4743cf49-776a-453b-f3ac-80065c34c2d5"
      },
      "source": [
        "list=[0,1,2,10,4,1,0,56,2,0,1,3,0,56,0,4]\n",
        " \n",
        "list.sort()\n",
        " \n",
        "while list[0]==0:\n",
        "    list.pop(0)\n",
        "    list.append(0)\n",
        "        \n",
        "print(list)"
      ],
      "execution_count": 2,
      "outputs": [
        {
          "output_type": "stream",
          "text": [
            "[1, 1, 1, 2, 2, 3, 4, 4, 10, 56, 56, 0, 0, 0, 0, 0]\n"
          ],
          "name": "stdout"
        }
      ]
    },
    {
      "cell_type": "code",
      "metadata": {
        "id": "dDhW8DNBCchh",
        "colab_type": "code",
        "colab": {
          "base_uri": "https://localhost:8080/",
          "height": 54
        },
        "outputId": "f261deb9-99ac-46b4-abe5-0dae8dd96987"
      },
      "source": [
        "l1=[10,20,40,60,70,80]\n",
        "l2=[5,15,25,35,45,60]\n",
        "ans=[]\n",
        " \n",
        "i,j=0,0\n",
        " \n",
        "while i<len(l1) and j<len(l2):\n",
        "  \n",
        "    if l1[i]<l2[j]:\n",
        "        ans.append(l1[i])\n",
        "        i+=1\n",
        "  \n",
        "    else:\n",
        "        ans.append(l2[j])\n",
        "        j+=1\n",
        " \n",
        "ans = ans+ l1[i:] + l2[j:]\n",
        " \n",
        "print(ans)"
      ],
      "execution_count": 6,
      "outputs": [
        {
          "output_type": "stream",
          "text": [
            "[5, 10, 15, 20, 25, 35, 40, 45, 60, 60, 70, 80]\n"
          ],
          "name": "stdout"
        }
      ]
    }
  ]
}