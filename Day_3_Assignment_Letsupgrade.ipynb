{
  "nbformat": 4,
  "nbformat_minor": 0,
  "metadata": {
    "colab": {
      "name": "Day 3 Assignment Letsupgrade",
      "provenance": [],
      "collapsed_sections": [],
      "authorship_tag": "ABX9TyNPEr9+YvKvR8KSNAtRtfm1",
      "include_colab_link": true
    },
    "kernelspec": {
      "name": "python3",
      "display_name": "Python 3"
    }
  },
  "cells": [
    {
      "cell_type": "markdown",
      "metadata": {
        "id": "view-in-github",
        "colab_type": "text"
      },
      "source": [
        "<a href=\"https://colab.research.google.com/github/MuthuRajan06/Lets-upgrade-python-course/blob/master/Day_3_Assignment_Letsupgrade.ipynb\" target=\"_parent\"><img src=\"https://colab.research.google.com/assets/colab-badge.svg\" alt=\"Open In Colab\"/></a>"
      ]
    },
    {
      "cell_type": "code",
      "metadata": {
        "id": "T2iuabKgOtP3",
        "colab_type": "code",
        "colab": {
          "base_uri": "https://localhost:8080/",
          "height": 51
        },
        "outputId": "a54438fd-b5a5-4feb-c6b9-bb84f5a6e845"
      },
      "source": [
        " n=int(input('Enter the num : '))\n",
        " \n",
        "sum=0\n",
        "i=1\n",
        "while i<=n:\n",
        "    sum+=i\n",
        "    i+=1\n",
        " \n",
        "print(sum)"
      ],
      "execution_count": null,
      "outputs": [
        {
          "output_type": "stream",
          "text": [
            "Enter the num : 5\n",
            "15\n"
          ],
          "name": "stdout"
        }
      ]
    },
    {
      "cell_type": "code",
      "metadata": {
        "id": "TEZs7fvUFbXv",
        "colab_type": "code",
        "colab": {
          "base_uri": "https://localhost:8080/",
          "height": 51
        },
        "outputId": "2e168c08-a6a7-465b-fc73-6eda30a69d2c"
      },
      "source": [
        " \n",
        "n=int(input('Enter the num : '))\n",
        "f=0\n",
        " \n",
        "if n%2!=0 and n!=2:\n",
        "    for i in range(3,int(n/2)+1):\n",
        "        if(n%i==0):\n",
        "            f=1 \n",
        "            break\n",
        " \n",
        "elif n==2:\n",
        "    f=0\n",
        " \n",
        "else:\n",
        "    f=1\n",
        " \n",
        "if f==0:\n",
        "    print('Prime')\n",
        "else:\n",
        "    print('Not prime')"
      ],
      "execution_count": 19,
      "outputs": [
        {
          "output_type": "stream",
          "text": [
            "Enter the num : 29\n",
            "Prime\n"
          ],
          "name": "stdout"
        }
      ]
    }
  ]
}