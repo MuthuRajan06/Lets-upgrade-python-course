{
  "nbformat": 4,
  "nbformat_minor": 0,
  "metadata": {
    "colab": {
      "name": "Day 7 Assignment.ipynb",
      "provenance": [],
      "collapsed_sections": [],
      "authorship_tag": "ABX9TyP8NyPhYUP/efoev5fvsu7J",
      "include_colab_link": true
    },
    "kernelspec": {
      "name": "python3",
      "display_name": "Python 3"
    }
  },
  "cells": [
    {
      "cell_type": "markdown",
      "metadata": {
        "id": "view-in-github",
        "colab_type": "text"
      },
      "source": [
        "<a href=\"https://colab.research.google.com/github/MuthuRajan06/Lets-upgrade-python-course/blob/master/Day_7_Assignment.ipynb\" target=\"_parent\"><img src=\"https://colab.research.google.com/assets/colab-badge.svg\" alt=\"Open In Colab\"/></a>"
      ]
    },
    {
      "cell_type": "code",
      "metadata": {
        "id": "tnrcY9VKyaiC",
        "colab_type": "code",
        "colab": {
          "base_uri": "https://localhost:8080/",
          "height": 34
        },
        "outputId": "f931a65f-d117-4b0b-e371-f35f488f549d"
      },
      "source": [
        " l1=[(1,2),(3,4),(5,6),(4,5)]\n",
        "l2=[]\n",
        " \n",
        "for i in l1:\n",
        "    sum=0    \n",
        "    for j in range(len(i)):\n",
        "        sum+= i[j]\n",
        "    l2.append(sum)\n",
        "print(l2)"
      ],
      "execution_count": 5,
      "outputs": [
        {
          "output_type": "stream",
          "text": [
            "[3, 7, 11, 9]\n"
          ],
          "name": "stdout"
        }
      ]
    },
    {
      "cell_type": "code",
      "metadata": {
        "id": "S9a28T5I1cxY",
        "colab_type": "code",
        "colab": {
          "base_uri": "https://localhost:8080/",
          "height": 54
        },
        "outputId": "ab753a75-5d60-445e-87ce-740bfb68d30e"
      },
      "source": [
        "l1={21:'FTP',22:'SSH',23:'TELNET',80:'http'}\n",
        "l2={}\n",
        " \n",
        "for i in l1:\n",
        "    l2[l1[i]]=i\n",
        " \n",
        "print(l2)"
      ],
      "execution_count": 9,
      "outputs": [
        {
          "output_type": "stream",
          "text": [
            "{'FTP': 21, 'SSH': 22, 'TELNET': 23, 'http': 80}\n"
          ],
          "name": "stdout"
        }
      ]
    },
    {
      "cell_type": "code",
      "metadata": {
        "id": "rB5SJjfl2bt_",
        "colab_type": "code",
        "colab": {
          "base_uri": "https://localhost:8080/",
          "height": 54
        },
        "outputId": "afbbbba4-9ce3-4af5-e8e0-79a520273f0b"
      },
      "source": [
        "l1=[(1,2,3),[1,2],['a','hit','less']]\n",
        "l2=[]\n",
        " \n",
        "for i in l1:\n",
        "    for j in range(len(i)):\n",
        "        l2.append(i[j])\n",
        " \n",
        "l1=l2\n",
        "print(l1)"
      ],
      "execution_count": 11,
      "outputs": [
        {
          "output_type": "stream",
          "text": [
            "[1, 2, 3, 1, 2, 'a', 'hit', 'less']\n"
          ],
          "name": "stdout"
        }
      ]
    }
  ]
}