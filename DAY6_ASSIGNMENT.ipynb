{
  "nbformat": 4,
  "nbformat_minor": 0,
  "metadata": {
    "colab": {
      "name": "DAY6 ASSIGNMENT.ipynb",
      "provenance": [],
      "authorship_tag": "ABX9TyN2QV0HDnvEL4zVC3Tdr9Lw",
      "include_colab_link": true
    },
    "kernelspec": {
      "name": "python3",
      "display_name": "Python 3"
    }
  },
  "cells": [
    {
      "cell_type": "markdown",
      "metadata": {
        "id": "view-in-github",
        "colab_type": "text"
      },
      "source": [
        "<a href=\"https://colab.research.google.com/github/MuthuRajan06/Lets-upgrade-python-course/blob/master/DAY6_ASSIGNMENT.ipynb\" target=\"_parent\"><img src=\"https://colab.research.google.com/assets/colab-badge.svg\" alt=\"Open In Colab\"/></a>"
      ]
    },
    {
      "cell_type": "code",
      "metadata": {
        "id": "2gkBaIhDg_Wf",
        "colab_type": "code",
        "colab": {
          "base_uri": "https://localhost:8080/",
          "height": 54
        },
        "outputId": "2c42b25e-6c8d-426f-8298-b6512721d98e"
      },
      "source": [
        "key_list=['a','b','c','d','e']\n",
        "val_list=[1,2,3,4,5]\n",
        " \n",
        "dic={ key_list[i]:val_list[i] for i in range(len(key_list)) }\n",
        " \n",
        "print(dic)"
      ],
      "execution_count": 2,
      "outputs": [
        {
          "output_type": "stream",
          "text": [
            "{'a': 1, 'b': 2, 'c': 3, 'd': 4, 'e': 5}\n"
          ],
          "name": "stdout"
        }
      ]
    }
  ]
}