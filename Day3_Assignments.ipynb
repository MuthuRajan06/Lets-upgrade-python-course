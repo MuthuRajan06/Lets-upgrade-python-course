{
  "nbformat": 4,
  "nbformat_minor": 0,
  "metadata": {
    "colab": {
      "name": "Day3 Assignments.ipynb",
      "provenance": [],
      "authorship_tag": "ABX9TyN0HU5/pIcCxE8sJEbyw2+p",
      "include_colab_link": true
    },
    "kernelspec": {
      "name": "python3",
      "display_name": "Python 3"
    }
  },
  "cells": [
    {
      "cell_type": "markdown",
      "metadata": {
        "id": "view-in-github",
        "colab_type": "text"
      },
      "source": [
        "<a href=\"https://colab.research.google.com/github/MuthuRajan06/Lets-upgrade-python-course/blob/master/Day3_Assignments.ipynb\" target=\"_parent\"><img src=\"https://colab.research.google.com/assets/colab-badge.svg\" alt=\"Open In Colab\"/></a>"
      ]
    },
    {
      "cell_type": "code",
      "metadata": {
        "id": "kidsJ7YPSvCD",
        "colab_type": "code",
        "colab": {
          "base_uri": "https://localhost:8080/",
          "height": 51
        },
        "outputId": "8157f0fc-7ea6-41e2-b31f-715a60df5a1b"
      },
      "source": [
        "ht=int(input('Enter the altitude :'))\n",
        " \n",
        "if(ht<=1000):\n",
        "    print('Safe to land')\n",
        "elif ht>1000 and ht<=5000:\n",
        "    print('Bring down to 1000')\n",
        "else:\n",
        "    print('Turn around')"
      ],
      "execution_count": null,
      "outputs": [
        {
          "output_type": "stream",
          "text": [
            "Enter the altitude :4500\n",
            "Bring down to 1000\n"
          ],
          "name": "stdout"
        }
      ]
    },
    {
      "cell_type": "code",
      "metadata": {
        "id": "iTwxrf5ZUEid",
        "colab_type": "code",
        "colab": {
          "base_uri": "https://localhost:8080/",
          "height": 54
        },
        "outputId": "fe99ee61-7c34-4557-e5b8-fa60dd38f95d"
      },
      "source": [
        " \n",
        "a=2\n",
        "print(a ,', ',end='')\n",
        "for i in range(3,200,2):\n",
        "    f=0\n",
        "    for j in range(2,i):\n",
        "        if(i%j == 0):\n",
        "            f=1\n",
        "    if(f==0):\n",
        "        print(i,', ',end='')"
      ],
      "execution_count": null,
      "outputs": [
        {
          "output_type": "stream",
          "text": [
            "2 , 3 , 5 , 7 , 11 , 13 , 17 , 19 , 23 , 29 , 31 , 37 , 41 , 43 , 47 , 53 , 59 , 61 , 67 , 71 , 73 , 79 , 83 , 89 , 97 , 101 , 103 , 107 , 109 , 113 , 127 , 131 , 137 , 139 , 149 , 151 , 157 , 163 , 167 , 173 , 179 , 181 , 191 , 193 , 197 , 199 , "
          ],
          "name": "stdout"
        }
      ]
    },
    {
      "cell_type": "code",
      "metadata": {
        "id": "llYivqyqW7Ad",
        "colab_type": "code",
        "colab": {}
      },
      "source": [
        "import math\n",
        "f=0\n",
        "for i in range(1042000,702648265):\n",
        "    \n",
        "    len=0\n",
        "    val=0\n",
        "    \n",
        "    temp=i\n",
        " \n",
        "    while(int(temp)!=0):        \n",
        "        len+=1\n",
        "        temp/=10\n",
        " \n",
        "    temp=i\n",
        " \n",
        "    while(int(temp)!=0):        \n",
        "        x=temp%10\n",
        "        val=val+(x**len)\n",
        "        temp/=10\n",
        " \n",
        "       \n",
        "    if(i==val):\n",
        "         f=1\n",
        "         print(i) \n",
        "         break\n",
        "if(f==0):\n",
        "    print('Not found')"
      ],
      "execution_count": null,
      "outputs": []
    },
    {
      "cell_type": "markdown",
      "metadata": {
        "id": "S8bwdWolzcKp",
        "colab_type": "text"
      },
      "source": [
        ""
      ]
    }
  ]
}