{
  "nbformat": 4,
  "nbformat_minor": 0,
  "metadata": {
    "colab": {
      "name": "Day 4 Assignment.ipynb",
      "provenance": [],
      "collapsed_sections": [],
      "authorship_tag": "ABX9TyNEICtvQLygKQdtkjZuJUgL",
      "include_colab_link": true
    },
    "kernelspec": {
      "name": "python3",
      "display_name": "Python 3"
    }
  },
  "cells": [
    {
      "cell_type": "markdown",
      "metadata": {
        "id": "view-in-github",
        "colab_type": "text"
      },
      "source": [
        "<a href=\"https://colab.research.google.com/github/MuthuRajan06/Lets-upgrade-python-course/blob/master/Day_4_Assignment.ipynb\" target=\"_parent\"><img src=\"https://colab.research.google.com/assets/colab-badge.svg\" alt=\"Open In Colab\"/></a>"
      ]
    },
    {
      "cell_type": "code",
      "metadata": {
        "id": "kmIfOy8J8M6X",
        "colab_type": "code",
        "colab": {
          "base_uri": "https://localhost:8080/",
          "height": 51
        },
        "outputId": "4ee9ce27-ffcb-4550-bce1-9af8170af71c"
      },
      "source": [
        "str='what we think we become; we are python programmer'\n",
        "substr=input('Enter substring : ')\n",
        "match_index=[]\n",
        " \n",
        "for i in range (len(str)):\n",
        " \n",
        "    if(str.startswith(substr,i)):\n",
        " \n",
        "        match_index.append(i)\n",
        " \n",
        "print(match_index)"
      ],
      "execution_count": 4,
      "outputs": [
        {
          "output_type": "stream",
          "text": [
            "Enter substringwe\n",
            "[5, 14, 25]\n"
          ],
          "name": "stdout"
        }
      ]
    },
    {
      "cell_type": "code",
      "metadata": {
        "id": "bGDW4kbB-T7d",
        "colab_type": "code",
        "colab": {
          "base_uri": "https://localhost:8080/",
          "height": 85
        },
        "outputId": "719ea757-b753-43b1-b115-deb98113121b"
      },
      "source": [
        "str1='hai'\n",
        "str2='HELLO'\n",
        "str3='HEL63'\n",
        "str4='hAi' \n",
        " \n",
        "print(str1.islower())\n",
        "print(str2.isupper())\n",
        " \n",
        "print(str3.isupper())\n",
        "print(str4.islower())"
      ],
      "execution_count": 10,
      "outputs": [
        {
          "output_type": "stream",
          "text": [
            "True\n",
            "True\n",
            "True\n",
            "False\n"
          ],
          "name": "stdout"
        }
      ]
    }
  ]
}